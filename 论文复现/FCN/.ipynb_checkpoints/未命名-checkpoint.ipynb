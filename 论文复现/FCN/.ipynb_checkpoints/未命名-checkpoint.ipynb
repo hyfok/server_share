{
 "cells": [
  {
   "cell_type": "code",
   "execution_count": 7,
   "metadata": {},
   "outputs": [],
   "source": [
    "import numpy as np\n",
    "from PIL import Image"
   ]
  },
  {
   "cell_type": "code",
   "execution_count": null,
   "metadata": {},
   "outputs": [],
   "source": [
    "voc_root = '/home/hyfok/Notebook/LIP'\n",
    "\n",
    "def read_images(root=voc_root, train=True):\n",
    "    txt_fname = root + '/TrainVal_images/' + ('train_id.txt' if train else 'val_id.txt')\n",
    "    with open(txt_fname, 'r') as f:\n",
    "        images = f.read().split()\n",
    "    data = [os.path.join(root, 'TrainVal_images/TrainVal_images', ('train_images' if train else 'val_images')+i+'.jpg') for i in images]\n",
    "    label = [os.path.join(root, 'TrainVal_parsing_annotations/TrainVal_parsing_annotations', ('train_segmentations' if train else 'val_segmentations')+i+'.png') for i in images]\n",
    "    return data, label"
   ]
  },
  {
   "cell_type": "code",
   "execution_count": null,
   "metadata": {},
   "outputs": [],
   "source": [
    "def rand_crop(data, label, height, width):\n",
    "    '''\n",
    "    data is PIL.Image object\n",
    "    label is PIL.Image object\n",
    "    '''\n",
    "    data, rect = tfs.RandomCrop((height, width))(data)\n",
    "    label = tfs.FixedCrop(*rect)(label)\n",
    "    return data, label"
   ]
  },
  {
   "cell_type": "code",
   "execution_count": 71,
   "metadata": {},
   "outputs": [
    {
     "data": {
      "text/plain": [
       "(20, 20)"
      ]
     },
     "execution_count": 71,
     "metadata": {},
     "output_type": "execute_result"
    }
   ],
   "source": [
    "classes = ['background','Hat','Hair','Glove','Sunglasses','UpperClothes',\n",
    "           'Dress','Coat','Socks','Pants','Jumpsuits','Scarf','Skirt',\n",
    "           'Face','Left-arm','Right-arm','Left-leg','Right-leg',\n",
    "           'Left-shoe','Right-shoe']\n",
    "\n",
    "# RGB color for each class\n",
    "colormap = [[0,0,0],[128,0,0],[0,128,0], [128,128,0], [0,0,128],\n",
    "            [128,0,128],[0,128,128],[128,128,128],[64,0,0],[192,0,0],\n",
    "            [64,128,0],[192,128,0],[64,0,128],[192,0,128],\n",
    "            [64,128,128],[192,128,128],[0,64,0],[128,64,0],\n",
    "            [0,192,0],[128,192,0]]\n",
    "\n",
    "len(classes), len(colormap)"
   ]
  },
  {
   "cell_type": "code",
   "execution_count": 81,
   "metadata": {},
   "outputs": [],
   "source": [
    "def label2color(im):\n",
    "    data = np.array(im, dtype='int32')\n",
    "    if((data[:,:,0] == data[:,:,1]).all() and (data[:,:,0] == data[:,:,2]).all()):\n",
    "        idx = data[:, :, 0]\n",
    "        return np.array([colormap[i] for cols in idx.tolist() for i in cols], dtype='int64').reshape(idx.shape[0],idx.shape[1],3) # 根据索引得到color图\n",
    "    return []"
   ]
  },
  {
   "cell_type": "code",
   "execution_count": 83,
   "metadata": {},
   "outputs": [
    {
     "data": {
      "image/png": "[encoded data removed]",
      "text/plain": [
       "<PIL.Image.Image image mode=RGB size=104x120 at 0x7FEE125F9400>"
      ]
     },
     "execution_count": 83,
     "metadata": {},
     "output_type": "execute_result"
    }
   ],
   "source": [
    "label_im = Image.open('/home/hyfok/Notebook/LIP/TrainVal_parsing_annotations/TrainVal_parsing_annotations/train_segmentations/77_471474.png').convert('RGB')\n",
    "color_image = label2color(label_im)\n",
    "Image.fromarray(color_image.astype('uint8'))"
   ]
  }
 ],
 "metadata": {
  "kernelspec": {
   "display_name": "Python 3",
   "language": "python",
   "name": "python3"
  },
  "language_info": {
   "codemirror_mode": {
    "name": "ipython",
    "version": 3
   },
   "file_extension": ".py",
   "mimetype": "text/x-python",
   "name": "python",
   "nbconvert_exporter": "python",
   "pygments_lexer": "ipython3",
   "version": "3.7.0"
  }
 },
 "nbformat": 4,
 "nbformat_minor": 2
}
